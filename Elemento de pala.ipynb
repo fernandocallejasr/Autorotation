{
 "cells": [
  {
   "cell_type": "code",
   "execution_count": 1,
   "metadata": {},
   "outputs": [],
   "source": [
    "import pandas as pd\n",
    "import numpy as np"
   ]
  },
  {
   "cell_type": "code",
   "execution_count": 2,
   "metadata": {},
   "outputs": [],
   "source": [
    "class ElemPala:\n",
    "    \"\"\"Clase que te permite obtener los parámetros diferenciales (Levantamiento, Arrastre, Torque)\n",
    "       de cada elemento de una pala de un autogiro o helicóptero, se puede obtener el número\n",
    "       de revoluciones necesario para entrar en autorotación cuando el torque total es cero\n",
    "    \"\"\"\n",
    "    \n",
    "    def __init__(self, omega):\n",
    "        self.omega = omega\n",
    "        self.W = 450*9.81\n",
    "        self.D = 8.4; self.cuerda = 0.24; self.a = 5.6; self.Cdo = 0.007\n",
    "        self.l_efec = 3.68\n",
    "        self.dr = 0.08\n",
    "        self.num_elem = self.l_efec/self.dr\n",
    "        self.r_0 = self.D/2 - 3.68\n",
    "        self.r = []\n",
    "        self.alpha_fb = [] # alphas de los elementos de la pala que avanza\n",
    "        self.alpha_bb = [] # alphas de los elementos de la para que retrocede\n",
    "        self.VR_fb = []; self.VR_bb = []\n",
    "        self.tetha = 0     # ángulo de paso de la pala\n",
    "        self.T = self.W/np.cos(np.deg2rad(30))\n",
    "        self.Voo = 2 * (self.T / (2 * 1.225 * np.pi * (1/4) * (self.D)**2))**0.5\n",
    "        self.L_fb = []; self.L_bb = []; self.D_fb = []; self.D_bb = []\n",
    "        self.Q_fb = []; self.Q_bb = []\n",
    "        self.DF = pd.DataFrame({'Omega [rpm]': [0], 'Q total': [0]})\n",
    "        self.Q = []\n",
    "        \n",
    "    def radios(self):\n",
    "        \"\"\"\n",
    "        Método para obtener el radio correspondiente a cada elemento\n",
    "        Args: \n",
    "            None\n",
    "        Output: \n",
    "            Lista de la posición del radio para cada elemento\n",
    "        \"\"\"\n",
    "        self.r = [round(r,2) for r in np.arange(self.r_0 + self.dr, self.l_efec, self.dr+0.001)]\n",
    "        \n",
    "    def alpha(self):\n",
    "        \"\"\"\n",
    "        Método que nos permite obtener el ángulo de ataque de cada elemento\n",
    "        Args: \n",
    "            None\n",
    "        Output: \n",
    "            Ángulo de ataque de cada elemento para un cierto rpm de ambas palas\n",
    "        \"\"\"\n",
    "        i = 0\n",
    "        for r in self.r:\n",
    "            self.VR_fb.append(self.Voo * np.cos(np.deg2rad(30)) + self.omega*r/60*(2*np.pi/1))\n",
    "            self.alpha_fb.append(np.arctan((self.Voo * np.sin(np.deg2rad(30)))/self.VR_fb[i]) + self.tetha)\n",
    "            self.VR_bb.append(abs(self.Voo * np.cos(np.deg2rad(30)) - self.omega*r/60*(2*np.pi/1)))\n",
    "            self.alpha_bb.append(np.arctan((self.Voo * np.sin(np.deg2rad(30)))/self.VR_bb[i]) + self.tetha)\n",
    "            i += 1\n",
    "    \n",
    "    def delta_L(self):\n",
    "        \"\"\"Método para calcular el delta de Levantamiento en cada elemento\n",
    "        \"\"\"\n",
    "        i = 0\n",
    "        for VR in self.VR_fb:\n",
    "            self.L_fb.append(0.5*1.225*(VR**2)*self.cuerda*self.a*self.alpha_fb[i]*self.dr)\n",
    "            i += 1\n",
    "            \n",
    "        i = 0\n",
    "        for VR in self.VR_bb:\n",
    "            self.L_bb.append(0.5*1.225*(VR**2)*self.cuerda*self.a*self.alpha_bb[i]*self.dr)\n",
    "            i += 1\n",
    "            \n",
    "    def delta_D(self):\n",
    "        \"\"\"Método para calcular el delta de Levantamiento en cada elemento\n",
    "        \"\"\"\n",
    "        i = 0\n",
    "        for VR in self.VR_fb:\n",
    "            self.D_fb.append(0.5*1.225*(VR**2)*self.cuerda*self.Cdo*self.dr)\n",
    "            i += 1\n",
    "            \n",
    "        i = 0\n",
    "        for VR in self.VR_bb:\n",
    "            self.D_bb.append(0.5*1.225*(VR**2)*self.cuerda*self.Cdo*self.dr)\n",
    "            i += 1\n",
    "        \n",
    "    \n",
    "    def torque(self):\n",
    "        \"\"\"Método para calcular el torque total de ambas palas\n",
    "        \"\"\"\n",
    "        for i in range(len(self.VR_fb)):\n",
    "            self.Q_fb.append((self.D_fb[i] - self.alpha_fb[i]*self.L_fb[i])*self.r[i]*self.dr)\n",
    "            self.Q_bb.append((self.D_bb[i] - self.alpha_bb[i]*self.L_bb[i])*self.r[i]*self.dr)\n",
    "        \n",
    "        return sum(self.Q_fb) + sum(self.Q_bb)\n",
    "    \n",
    "    "
   ]
  },
  {
   "cell_type": "code",
   "execution_count": 4,
   "metadata": {},
   "outputs": [],
   "source": [
    "def data_frame(omega_list):\n",
    "        \"\"\"Función para construir un Data Frame de pandas para visualizar los cálculos con diferentes rpm\n",
    "        \"\"\"\n",
    "        global DF\n",
    "        i = 0\n",
    "        Q = []\n",
    "        for j in range(len(omega_list)):\n",
    "            AG = ElemPala(omega_list[i])\n",
    "            AG.radios()\n",
    "            AG.alpha()\n",
    "            AG.delta_L()\n",
    "            AG.delta_D()\n",
    "            Q.append(AG.torque())\n",
    "            i += 1\n",
    "            \n",
    "        DF = pd.DataFrame({'Omega [rpm]': omega_list, 'Q total': Q})"
   ]
  },
  {
   "cell_type": "code",
   "execution_count": 5,
   "metadata": {},
   "outputs": [],
   "source": [
    "omega_lst = [omega for omega in range(3600, 4000, 50)]\n",
    "data_frame(omega_lst)"
   ]
  },
  {
   "cell_type": "markdown",
   "metadata": {},
   "source": [
    "### DF con error en omega"
   ]
  },
  {
   "cell_type": "code",
   "execution_count": 7,
   "metadata": {
    "scrolled": true
   },
   "outputs": [
    {
     "data": {
      "text/html": [
       "<div>\n",
       "<style scoped>\n",
       "    .dataframe tbody tr th:only-of-type {\n",
       "        vertical-align: middle;\n",
       "    }\n",
       "\n",
       "    .dataframe tbody tr th {\n",
       "        vertical-align: top;\n",
       "    }\n",
       "\n",
       "    .dataframe thead th {\n",
       "        text-align: right;\n",
       "    }\n",
       "</style>\n",
       "<table border=\"1\" class=\"dataframe\">\n",
       "  <thead>\n",
       "    <tr style=\"text-align: right;\">\n",
       "      <th></th>\n",
       "      <th>Omega [rpm]</th>\n",
       "      <th>Q total</th>\n",
       "    </tr>\n",
       "  </thead>\n",
       "  <tbody>\n",
       "    <tr>\n",
       "      <td>0</td>\n",
       "      <td>3600</td>\n",
       "      <td>-4.850387</td>\n",
       "    </tr>\n",
       "    <tr>\n",
       "      <td>1</td>\n",
       "      <td>3650</td>\n",
       "      <td>-4.070631</td>\n",
       "    </tr>\n",
       "    <tr>\n",
       "      <td>2</td>\n",
       "      <td>3700</td>\n",
       "      <td>-3.280003</td>\n",
       "    </tr>\n",
       "    <tr>\n",
       "      <td>3</td>\n",
       "      <td>3750</td>\n",
       "      <td>-2.478510</td>\n",
       "    </tr>\n",
       "    <tr>\n",
       "      <td>4</td>\n",
       "      <td>3800</td>\n",
       "      <td>-1.666156</td>\n",
       "    </tr>\n",
       "    <tr>\n",
       "      <td>5</td>\n",
       "      <td>3850</td>\n",
       "      <td>-0.842945</td>\n",
       "    </tr>\n",
       "    <tr>\n",
       "      <td>6</td>\n",
       "      <td>3900</td>\n",
       "      <td>-0.008882</td>\n",
       "    </tr>\n",
       "    <tr>\n",
       "      <td>7</td>\n",
       "      <td>3950</td>\n",
       "      <td>0.836031</td>\n",
       "    </tr>\n",
       "  </tbody>\n",
       "</table>\n",
       "</div>"
      ],
      "text/plain": [
       "   Omega [rpm]   Q total\n",
       "0         3600 -4.850387\n",
       "1         3650 -4.070631\n",
       "2         3700 -3.280003\n",
       "3         3750 -2.478510\n",
       "4         3800 -1.666156\n",
       "5         3850 -0.842945\n",
       "6         3900 -0.008882\n",
       "7         3950  0.836031"
      ]
     },
     "execution_count": 7,
     "metadata": {},
     "output_type": "execute_result"
    }
   ],
   "source": [
    "DF"
   ]
  },
  {
   "cell_type": "markdown",
   "metadata": {},
   "source": [
    "### DF sin error en omega"
   ]
  },
  {
   "cell_type": "code",
   "execution_count": 11,
   "metadata": {},
   "outputs": [],
   "source": [
    "omega_lst = [omega for omega in range(500, 1000, 50)]\n",
    "data_frame(omega_lst)"
   ]
  },
  {
   "cell_type": "code",
   "execution_count": 12,
   "metadata": {},
   "outputs": [
    {
     "data": {
      "text/html": [
       "<div>\n",
       "<style scoped>\n",
       "    .dataframe tbody tr th:only-of-type {\n",
       "        vertical-align: middle;\n",
       "    }\n",
       "\n",
       "    .dataframe tbody tr th {\n",
       "        vertical-align: top;\n",
       "    }\n",
       "\n",
       "    .dataframe thead th {\n",
       "        text-align: right;\n",
       "    }\n",
       "</style>\n",
       "<table border=\"1\" class=\"dataframe\">\n",
       "  <thead>\n",
       "    <tr style=\"text-align: right;\">\n",
       "      <th></th>\n",
       "      <th>Omega [rpm]</th>\n",
       "      <th>Q total</th>\n",
       "    </tr>\n",
       "  </thead>\n",
       "  <tbody>\n",
       "    <tr>\n",
       "      <td>0</td>\n",
       "      <td>500</td>\n",
       "      <td>-11.491437</td>\n",
       "    </tr>\n",
       "    <tr>\n",
       "      <td>1</td>\n",
       "      <td>550</td>\n",
       "      <td>-7.038979</td>\n",
       "    </tr>\n",
       "    <tr>\n",
       "      <td>2</td>\n",
       "      <td>600</td>\n",
       "      <td>-2.156313</td>\n",
       "    </tr>\n",
       "    <tr>\n",
       "      <td>3</td>\n",
       "      <td>650</td>\n",
       "      <td>3.155106</td>\n",
       "    </tr>\n",
       "    <tr>\n",
       "      <td>4</td>\n",
       "      <td>700</td>\n",
       "      <td>8.894368</td>\n",
       "    </tr>\n",
       "    <tr>\n",
       "      <td>5</td>\n",
       "      <td>750</td>\n",
       "      <td>15.060882</td>\n",
       "    </tr>\n",
       "    <tr>\n",
       "      <td>6</td>\n",
       "      <td>800</td>\n",
       "      <td>21.654247</td>\n",
       "    </tr>\n",
       "    <tr>\n",
       "      <td>7</td>\n",
       "      <td>850</td>\n",
       "      <td>28.674185</td>\n",
       "    </tr>\n",
       "    <tr>\n",
       "      <td>8</td>\n",
       "      <td>900</td>\n",
       "      <td>36.120497</td>\n",
       "    </tr>\n",
       "    <tr>\n",
       "      <td>9</td>\n",
       "      <td>950</td>\n",
       "      <td>43.993038</td>\n",
       "    </tr>\n",
       "  </tbody>\n",
       "</table>\n",
       "</div>"
      ],
      "text/plain": [
       "   Omega [rpm]    Q total\n",
       "0          500 -11.491437\n",
       "1          550  -7.038979\n",
       "2          600  -2.156313\n",
       "3          650   3.155106\n",
       "4          700   8.894368\n",
       "5          750  15.060882\n",
       "6          800  21.654247\n",
       "7          850  28.674185\n",
       "8          900  36.120497\n",
       "9          950  43.993038"
      ]
     },
     "execution_count": 12,
     "metadata": {},
     "output_type": "execute_result"
    }
   ],
   "source": [
    "DF"
   ]
  },
  {
   "cell_type": "code",
   "execution_count": 51,
   "metadata": {},
   "outputs": [
    {
     "data": {
      "text/plain": [
       "-0.0008929127681880367"
      ]
     },
     "execution_count": 51,
     "metadata": {},
     "output_type": "execute_result"
    }
   ],
   "source": [
    "AG1 = ElemPala(620.78)\n",
    "AG1.radios()\n",
    "AG1.alpha()\n",
    "AG1.delta_L()\n",
    "AG1.delta_D()\n",
    "AG1.torque()"
   ]
  },
  {
   "cell_type": "code",
   "execution_count": 52,
   "metadata": {
    "scrolled": false
   },
   "outputs": [
    {
     "data": {
      "text/plain": [
       "5097.425526675205"
      ]
     },
     "execution_count": 52,
     "metadata": {},
     "output_type": "execute_result"
    }
   ],
   "source": [
    "AG1.T"
   ]
  },
  {
   "cell_type": "code",
   "execution_count": 53,
   "metadata": {},
   "outputs": [],
   "source": [
    "delta_T = map(lambda x, y: x/np.cos(np.deg2rad(30)) + y/np.cos(np.deg2rad(30)), AG1.L_fb, AG1.L_bb)"
   ]
  },
  {
   "cell_type": "code",
   "execution_count": 54,
   "metadata": {
    "scrolled": true
   },
   "outputs": [
    {
     "data": {
      "text/plain": [
       "5048.102885851675"
      ]
     },
     "execution_count": 54,
     "metadata": {},
     "output_type": "execute_result"
    }
   ],
   "source": [
    "T_total = list(delta_T)\n",
    "sum(T_total)"
   ]
  },
  {
   "cell_type": "code",
   "execution_count": null,
   "metadata": {},
   "outputs": [],
   "source": []
  }
 ],
 "metadata": {
  "kernelspec": {
   "display_name": "Python 3",
   "language": "python",
   "name": "python3"
  },
  "language_info": {
   "codemirror_mode": {
    "name": "ipython",
    "version": 3
   },
   "file_extension": ".py",
   "mimetype": "text/x-python",
   "name": "python",
   "nbconvert_exporter": "python",
   "pygments_lexer": "ipython3",
   "version": "3.7.4"
  }
 },
 "nbformat": 4,
 "nbformat_minor": 2
}
