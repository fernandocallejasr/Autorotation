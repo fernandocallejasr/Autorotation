{
 "cells": [
  {
   "cell_type": "code",
   "execution_count": 1,
   "metadata": {},
   "outputs": [],
   "source": [
    "import pandas as pd\n",
    "import numpy as np"
   ]
  },
  {
   "cell_type": "code",
   "execution_count": 7,
   "metadata": {},
   "outputs": [],
   "source": [
    "AG1_Data = {'W': 450*9.81,\n",
    "           'D' : 8.4,\n",
    "           'cuerda': 0.24, \n",
    "           'a' : 5.6,\n",
    "           'Cdo' : 0.007, \n",
    "           'long_efec': 3.68,\n",
    "           'alpha_rotor': 30,\n",
    "           'Voo_Vh': 2, \n",
    "           'theta': 0\n",
    "            }\n",
    "\n",
    "Ex_1 = ElemPala(AG1_Data, 500, 0.08, 0)"
   ]
  },
  {
   "cell_type": "code",
   "execution_count": 8,
   "metadata": {},
   "outputs": [],
   "source": [
    "class ElemPala:\n",
    "    \"\"\"Clase que te permite obtener los parámetros diferenciales (Levantamiento, Arrastre, Torque)\n",
    "       de cada elemento de una pala de un autogiro o helicóptero, así como el torque total de cada \n",
    "       elemento en las dos palas. También se puede obtener el número de revoluciones necesario para\n",
    "       entrar en autorotación cuando el torque total es cero\n",
    "    \"\"\"\n",
    "    \n",
    "    def __init__(self, Data, omega, dr, hdens):\n",
    "        self.omega = omega\n",
    "        \n",
    "        self.Data = Data\n",
    "        self.W = Data['W']\n",
    "        self.D = Data['D'] \n",
    "        self.cuerda = Data['cuerda']; \n",
    "        self.a = Data['a'] \n",
    "        self.Cdo = Data['Cdo']\n",
    "        self.long_efec = Data['long_efec']\n",
    "        self.alpha_rotor = Data['alpha_rotor']\n",
    "        self.Voo_Vh = Data['Voo_Vh']\n",
    "        self.theta = Data['theta']\n",
    "        \n",
    "        self.dr = dr\n",
    "        self.num_elem = int(self.long_efec/self.dr)\n",
    "        self.r_0 = self.D/2 - self.long_efec\n",
    "        \n",
    "        self.hdens = hdens\n",
    "        self.dens   = 1.225*(1-self.hdens*(0.00357/518.4))**(1/0.235)\n",
    "        self.dens_ratio = self.dens/1.225\n",
    "        \n",
    "        self.T = self.W/np.cos(np.deg2rad(self.alpha_rotor))  \n",
    "        self.Voo = self.Voo_Vh * (self.T / (2 * self.dens * np.pi * (1/4) * (self.D)**2))**0.5\n",
    "        \n",
    "        self.list_r = [0 for x in range(self.num_elem)]\n",
    "        self.list_alpha_fb = [0 for x in range(self.num_elem)] # alphas de los elementos de la pala que avanza\n",
    "        self.list_alpha_bb = [0 for x in range(self.num_elem)] # alphas de los elementos de la para que retrocede\n",
    "        self.list_VR_fb = [0 for x in range(self.num_elem)]; self.list_VR_bb = [0 for x in range(self.num_elem)]\n",
    "        self.list_L_fb = [0 for x in range(self.num_elem)]; self.list_L_bb = [0 for x in range(self.num_elem)] \n",
    "        self.list_D_fb = [0 for x in range(self.num_elem)]; self.list_D_bb = [0 for x in range(self.num_elem)]\n",
    "        self.list_Q_fb = [0 for x in range(self.num_elem)]; self.list_Q_bb = [0 for x in range(self.num_elem)]\n",
    "        \n",
    "        self.DF = pd.DataFrame({'Omega [rpm]': [0], 'Q total': [0]})\n",
    "        self.Q = []\n",
    "        \n",
    "    def calc_radios(self):\n",
    "        \"\"\"\n",
    "        Método para obtener el radio correspondiente a cada elemento\n",
    "        Args: None\n",
    "        Output: None\n",
    "        \"\"\"\n",
    "        self.list_r = [round(r,2) for r in np.arange(self.r_0 + self.dr, self.D/2 + self.dr, self.dr)]\n",
    "        \n",
    "    def calc_VR(self):\n",
    "        \"\"\"Método para obtener VR en cada elemento para la pala que avanza y\n",
    "           la que retrocede\n",
    "           Args: None\n",
    "           Output: None\n",
    "        \"\"\"\n",
    "        i = 0\n",
    "        for r in self.list_r:\n",
    "            self.list_VR_fb[i] = self.Voo * np.cos(np.deg2rad(self.alpha_rotor)) + self.omega*r*(1/60)*(2*np.pi)\n",
    "            self.list_VR_bb[i] = abs(self.Voo * np.cos(np.deg2rad(self.alpha_rotor)) - self.omega*r*(1/60)*(2*np.pi))\n",
    "            i += 1\n",
    "        \n",
    "    def calc_alpha(self):\n",
    "        \"\"\"Método que nos permite obtener el ángulo de ataque de cada elemento en radianes\n",
    "           Args: None\n",
    "           Output: None\n",
    "        \"\"\"\n",
    "        i = 0\n",
    "        for r in self.list_r:\n",
    "            self.list_alpha_fb[i] = np.arctan((self.Voo * np.sin(np.deg2rad(self.alpha_rotor)))/self.list_VR_fb[i]) + self.theta*(np.pi/180)\n",
    "            self.list_alpha_bb[i] = np.arctan((self.Voo * np.sin(np.deg2rad(self.alpha_rotor)))/self.list_VR_bb[i]) + self.theta*(np.pi/180)\n",
    "            i += 1\n",
    "    \n",
    "    def calc_delta_L(self):\n",
    "        \"\"\"Método para calcular el delta de Levantamiento en cada elemento\n",
    "        \"\"\"\n",
    "        i = 0\n",
    "        for VR in self.list_VR_fb:\n",
    "            self.list_L_fb[i] = 0.5*self.dens*(VR**2)*self.cuerda*self.a*self.list_alpha_fb[i]*self.dr\n",
    "            i += 1\n",
    "            \n",
    "        i = 0\n",
    "        for VR in self.list_VR_bb:\n",
    "            self.list_L_bb[i] = 0.5*self.dens*(VR**2)*self.cuerda*self.a*self.list_alpha_bb[i]*self.dr\n",
    "            i += 1\n",
    "            \n",
    "    def calc_delta_D(self):\n",
    "        \"\"\"Método para calcular el delta de Levantamiento en cada elemento\n",
    "        \"\"\"\n",
    "        i = 0\n",
    "        for VR in self.list_VR_fb:\n",
    "            self.list_D_fb[i] = 0.5*self.dens*(VR**2)*self.cuerda*self.Cdo*self.dr\n",
    "            i += 1\n",
    "            \n",
    "        i = 0\n",
    "        for VR in self.list_VR_bb:\n",
    "            self.list_D_bb[i] = 0.5*self.dens*(VR**2)*self.cuerda*self.Cdo*self.dr\n",
    "            i += 1\n",
    "        \n",
    "    \n",
    "    def calc_torque(self):\n",
    "        \"\"\"Método para calcular el torque total de ambas palas\n",
    "        \"\"\"\n",
    "        for i in range(len(self.list_VR_fb)):\n",
    "            self.list_Q_fb[i] = (self.list_D_fb[i] - self.list_alpha_fb[i]*self.list_L_fb[i])*self.list_r[i]*self.dr\n",
    "            self.list_Q_bb[i] = (self.list_D_bb[i] - self.list_alpha_bb[i]*self.list_L_bb[i])*self.list_r[i]*self.dr\n",
    "        \n",
    "        self.Q = sum(self.list_Q_fb) + sum(self.list_Q_bb)\n",
    "    \n",
    "    def calc_All(self):\n",
    "        \"\"\"Método que calcula todos los parámetros necesarios para obtener el torque\n",
    "        \"\"\"\n",
    "        self.__init__(self.Data, self.omega, self.dr, self.hdens)\n",
    "        self.calc_radios()\n",
    "        self.calc_VR()\n",
    "        self.calc_alpha()\n",
    "        self.calc_delta_L()\n",
    "        self.calc_delta_D()\n",
    "        self.calc_torque()\n",
    "    \n",
    "    def get_DataFrame_All(self):\n",
    "        \"\"\"Método que calcula todos los parámetros de todos los elementos de la pala y los pone en un Data Frame de pandas\n",
    "        \"\"\"\n",
    "        self.calc_All()\n",
    "        \n",
    "        DF_total = pd.DataFrame({'r [m]': self.list_r,\n",
    "                                'VR fb [m/s]': self.list_VR_fb,\n",
    "                                'VR bb [m/s]': self.list_VR_bb,\n",
    "                                'alpha fb [°]': np.degrees(self.list_alpha_fb),\n",
    "                                'alpha bb [°]': np.degrees(self.list_alpha_bb),\n",
    "                                'dL fb [N]': self.list_L_fb,\n",
    "                                'dL bb [N]': self.list_L_bb,\n",
    "                                'dD fb [N]': self.list_D_fb,\n",
    "                                'dD bb [N]': self.list_D_bb \n",
    "                               })\n",
    "        \n",
    "        return DF_total\n",
    "    \n",
    "    def calc_list_torque(self, list_omega):\n",
    "        \"\"\"Método que calcula el torque para una lista de distintas rpm\n",
    "           Inputs:\n",
    "                    list_omega: lista. Lista de diferentes rpm para calcular su torque\n",
    "           Outputs:\n",
    "                   Data Frame de rpm y su respectivo torque\n",
    "        \"\"\"\n",
    "        list_Q = [0 for x in range(len(list_omega))]\n",
    "        \n",
    "        i = 0\n",
    "        for omega in list_omega:\n",
    "            self.omega = omega\n",
    "            self.calc_All()\n",
    "            list_Q[i] = self.Q\n",
    "            i += 1\n",
    "        \n",
    "        DF_Q = pd.DataFrame({'Omega [rpm]': list_omega, 'Torque [Nm]': list_Q})\n",
    "        \n",
    "        return DF_Q"
   ]
  },
  {
   "cell_type": "code",
   "execution_count": 9,
   "metadata": {},
   "outputs": [],
   "source": [
    "AG1_Data = {'W': 450*9.81,\n",
    "           'D' : 8.4,\n",
    "           'cuerda': 0.24,\n",
    "           'a': 5.6,\n",
    "           'Cdo' : 0.007, \n",
    "           'long_efec': 3.68,\n",
    "           'alpha_rotor': 30,\n",
    "           'Voo_Vh': 2, \n",
    "           'theta': 0\n",
    "            }"
   ]
  },
  {
   "cell_type": "code",
   "execution_count": 82,
   "metadata": {
    "scrolled": false
   },
   "outputs": [
    {
     "data": {
      "text/html": [
       "<div>\n",
       "<style scoped>\n",
       "    .dataframe tbody tr th:only-of-type {\n",
       "        vertical-align: middle;\n",
       "    }\n",
       "\n",
       "    .dataframe tbody tr th {\n",
       "        vertical-align: top;\n",
       "    }\n",
       "\n",
       "    .dataframe thead th {\n",
       "        text-align: right;\n",
       "    }\n",
       "</style>\n",
       "<table border=\"1\" class=\"dataframe\">\n",
       "  <thead>\n",
       "    <tr style=\"text-align: right;\">\n",
       "      <th></th>\n",
       "      <th>Omega [rpm]</th>\n",
       "      <th>Torque [Nm]</th>\n",
       "    </tr>\n",
       "  </thead>\n",
       "  <tbody>\n",
       "    <tr>\n",
       "      <td>0</td>\n",
       "      <td>300</td>\n",
       "      <td>-30.063787</td>\n",
       "    </tr>\n",
       "    <tr>\n",
       "      <td>1</td>\n",
       "      <td>350</td>\n",
       "      <td>-25.425146</td>\n",
       "    </tr>\n",
       "    <tr>\n",
       "      <td>2</td>\n",
       "      <td>400</td>\n",
       "      <td>-20.016561</td>\n",
       "    </tr>\n",
       "    <tr>\n",
       "      <td>3</td>\n",
       "      <td>450</td>\n",
       "      <td>-13.857705</td>\n",
       "    </tr>\n",
       "    <tr>\n",
       "      <td>4</td>\n",
       "      <td>500</td>\n",
       "      <td>-6.957704</td>\n",
       "    </tr>\n",
       "    <tr>\n",
       "      <td>5</td>\n",
       "      <td>550</td>\n",
       "      <td>0.678762</td>\n",
       "    </tr>\n",
       "  </tbody>\n",
       "</table>\n",
       "</div>"
      ],
      "text/plain": [
       "   Omega [rpm]  Torque [Nm]\n",
       "0          300   -30.063787\n",
       "1          350   -25.425146\n",
       "2          400   -20.016561\n",
       "3          450   -13.857705\n",
       "4          500    -6.957704\n",
       "5          550     0.678762"
      ]
     },
     "execution_count": 82,
     "metadata": {},
     "output_type": "execute_result"
    }
   ],
   "source": [
    "torque = [x for x in range(300, 600, 50)]\n",
    "AG_EX1.calc_list_torque(torque)"
   ]
  },
  {
   "cell_type": "code",
   "execution_count": 21,
   "metadata": {},
   "outputs": [],
   "source": [
    "AG_EX1 = ElemPala(AG1_Data, 546.85, 0.08, 0)\n",
    "AG_EX1.calc_All()"
   ]
  },
  {
   "cell_type": "code",
   "execution_count": 112,
   "metadata": {},
   "outputs": [
    {
     "data": {
      "text/plain": [
       "5097.425526675205"
      ]
     },
     "execution_count": 112,
     "metadata": {},
     "output_type": "execute_result"
    }
   ],
   "source": [
    "AG_EX1.T"
   ]
  },
  {
   "cell_type": "code",
   "execution_count": 113,
   "metadata": {},
   "outputs": [],
   "source": [
    "delta_T = map(lambda x, y: x + y, AG_EX1.list_L_fb, AG_EX1.list_L_bb)"
   ]
  },
  {
   "cell_type": "code",
   "execution_count": 114,
   "metadata": {
    "scrolled": true
   },
   "outputs": [
    {
     "data": {
      "text/plain": [
       "5097.669121883073"
      ]
     },
     "execution_count": 114,
     "metadata": {},
     "output_type": "execute_result"
    }
   ],
   "source": [
    "T_total = list(delta_T)\n",
    "sum(T_total)"
   ]
  },
  {
   "cell_type": "code",
   "execution_count": 115,
   "metadata": {},
   "outputs": [
    {
     "data": {
      "text/plain": [
       "0.1759834746395268"
      ]
     },
     "execution_count": 115,
     "metadata": {},
     "output_type": "execute_result"
    }
   ],
   "source": [
    "AG_EX1.Q"
   ]
  },
  {
   "cell_type": "code",
   "execution_count": 49,
   "metadata": {},
   "outputs": [
    {
     "name": "stderr",
     "output_type": "stream",
     "text": [
      ".\n",
      "----------------------------------------------------------------------\n",
      "Ran 1 test in 0.006s\n",
      "\n",
      "OK\n"
     ]
    },
    {
     "data": {
      "text/plain": [
       "<unittest.runner.TextTestResult run=1 errors=0 failures=0>"
      ]
     },
     "execution_count": 49,
     "metadata": {},
     "output_type": "execute_result"
    }
   ],
   "source": [
    "import unittest\n",
    "\n",
    "AG1_Data = {'W': 450*9.81,\n",
    "           'D' : 8.4,\n",
    "           'cuerda': 0.24,\n",
    "           'a': 5.6,\n",
    "           'Cdo' : 0.007, \n",
    "           'long_efec': 3.68,\n",
    "           'alpha_rotor': 30,\n",
    "           'Voo_Vh': 2, \n",
    "           'theta': 0\n",
    "            }\n",
    "\n",
    "class Test_bemClass(unittest.TestCase):\n",
    "    def setUp(self):\n",
    "        self.bem = ElemPala(AG1_Data, 500, 0.08, 0)\n",
    "        self.bem.calc_All()\n",
    "        \n",
    "    def test_initializaion(self):\n",
    "        #self.assertEqual(self.clothing.color, 'orange', 'color should be orange')\n",
    "        self.assertEqual(round(self.bem.T,2), 5097.43, 'T = 5097.43 N')\n",
    "        self.assertEqual(self.bem.list_r[4] , 0.92, 'Radio 5° Elem = 0.92 m')\n",
    "        self.assertEqual(round(self.bem.Voo,2), 12.25, 'Voo = 12.25 m/s')\n",
    "        self.assertEqual(round(self.bem.list_alpha_fb[4], 4) , 0.1039, 'Alpha 5° Elem fb = 0.1038 rad')\n",
    "        self.assertEqual(round(self.bem.list_alpha_bb[4], 4) , 0.1617, 'Alpha 5° Elem bb = 0.1617 rad')\n",
    "        self.assertEqual(round(self.bem.list_L_fb[4], 2) , 23.64, 'L 5° Elem fb = 23.64 N')\n",
    "        self.assertEqual(round(self.bem.list_L_bb[4], 2) , 15.02, 'L 5° Elem bb = 15.02 rad')\n",
    "        self.assertEqual(round(self.bem.list_D_fb[4], 2) , 0.28, 'D 5° Elem fb = 0.28 N')\n",
    "        self.assertEqual(round(self.bem.list_D_bb[4], 2) , 0.12, 'D 5° Elem bb = 0.12 N')\n",
    "        self.assertEqual(round(self.bem.list_Q_fb[4], 2) , -0.16, 'Q 5° Elem fb = -0.16 Nm')\n",
    "        self.assertEqual(round(self.bem.list_Q_bb[4], 2) , -0.17, 'Q 5° Elem bb = -0.17 Nm')\n",
    "        \n",
    "tests = Test_bemClass()\n",
    "tests_loaded = unittest.TestLoader().loadTestsFromModule(tests)\n",
    "unittest.TextTestRunner().run(tests_loaded)"
   ]
  }
 ],
 "metadata": {
  "kernelspec": {
   "display_name": "Python 3",
   "language": "python",
   "name": "python3"
  },
  "language_info": {
   "codemirror_mode": {
    "name": "ipython",
    "version": 3
   },
   "file_extension": ".py",
   "mimetype": "text/x-python",
   "name": "python",
   "nbconvert_exporter": "python",
   "pygments_lexer": "ipython3",
   "version": "3.7.4"
  }
 },
 "nbformat": 4,
 "nbformat_minor": 2
}
